{
 "cells": [
  {
   "cell_type": "code",
   "execution_count": null,
   "metadata": {},
   "outputs": [],
   "source": [
    "import numpy as np\n",
    "import matplotlib.pyplot as plt"
   ]
  },
  {
   "cell_type": "code",
   "execution_count": null,
   "metadata": {},
   "outputs": [],
   "source": [
    "# read nose_tip.csv\n",
    "data = np.genfromtxt('nose_tip.csv', delimiter=',', skip_header=1)\n",
    "x = data[:,0]\n",
    "y = data[:,1]\n",
    "t = np.arange(0, len(x))"
   ]
  },
  {
   "cell_type": "code",
   "execution_count": null,
   "metadata": {},
   "outputs": [],
   "source": [
    "# plot the 2d data points over time in 3d\n",
    "fig = plt.figure()\n",
    "ax = fig.add_subplot(111, projection='3d')\n",
    "ax.scatter(t, x, y, c='r', marker='o')\n",
    "ax.set_xlabel('time')\n",
    "ax.set_ylabel('x')\n",
    "ax.set_zlabel('y')\n",
    "plt.show()"
   ]
  },
  {
   "cell_type": "code",
   "execution_count": null,
   "metadata": {},
   "outputs": [],
   "source": [
    "# 2d plot of x and y over time\n",
    "plt.plot(t, x, 'r', label='x')\n",
    "plt.plot(t, y, 'b', label='y')\n",
    "plt.xlabel('time')\n",
    "plt.ylabel('x and y')\n",
    "plt.legend()\n",
    "plt.show()"
   ]
  },
  {
   "cell_type": "code",
   "execution_count": null,
   "metadata": {},
   "outputs": [],
   "source": [
    "# apply the one euro filter\n",
    "\n",
    "from one_euro_filter import OneEuroFilter\n",
    "\n",
    "# parameters\n",
    "min_cutoff = 0.02\n",
    "beta = 0.01\n",
    "\n",
    "# create filters\n",
    "x_filter = OneEuroFilter(t[0], x[0], min_cutoff=min_cutoff, beta=beta)\n",
    "y_filter = OneEuroFilter(t[0], y[0], min_cutoff=min_cutoff, beta=beta)\n",
    "\n",
    "x_filtered = np.zeros(len(x))\n",
    "y_filtered = np.zeros(len(y))\n",
    "x_filtered[0] = x[0]\n",
    "y_filtered[0] = y[0]\n",
    "\n",
    "# filter the data\n",
    "for i in range(1, len(x)):\n",
    "    x_filtered[i] = x_filter(t[i], x[i])\n",
    "    y_filtered[i] = y_filter(t[i], y[i])"
   ]
  },
  {
   "cell_type": "code",
   "execution_count": null,
   "metadata": {},
   "outputs": [],
   "source": [
    "# plot the filtered data\n",
    "fig, ax = plt.subplots(1, 1, sharex=True)\n",
    "ax.scatter(t, x, c='r', marker='o', alpha=0.1)\n",
    "ax.scatter(t, y, c='b', marker='o', alpha=0.1)\n",
    "\n",
    "ax.plot(t, x_filtered, 'r-', label='x filtered')\n",
    "ax.plot(t, y_filtered, 'b-', label='y filtered')\n",
    "ax.set_xlabel('time')\n",
    "ax.set_ylabel('x and y')\n",
    "ax.legend()\n",
    "plt.show()"
   ]
  }
 ],
 "metadata": {
  "kernelspec": {
   "display_name": "ctrlability",
   "language": "python",
   "name": "python3"
  },
  "language_info": {
   "codemirror_mode": {
    "name": "ipython",
    "version": 3
   },
   "file_extension": ".py",
   "mimetype": "text/x-python",
   "name": "python",
   "nbconvert_exporter": "python",
   "pygments_lexer": "ipython3",
   "version": "3.11.0"
  }
 },
 "nbformat": 4,
 "nbformat_minor": 2
}
