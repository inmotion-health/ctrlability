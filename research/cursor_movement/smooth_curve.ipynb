{
 "cells": [
  {
   "cell_type": "markdown",
   "metadata": {},
   "source": [
    "# Smooth Cursor Curve"
   ]
  },
  {
   "cell_type": "code",
   "execution_count": null,
   "metadata": {
    "is_executing": true
   },
   "outputs": [],
   "source": [
    "from sympy import *\n",
    "\n",
    "init_printing()\n",
    "\n",
    "x = symbols('x')"
   ]
  },
  {
   "cell_type": "markdown",
   "metadata": {},
   "source": [
    "## Simple Cubic Function\n",
    "\n",
    "As an initial idea, we can use a simple cubic function to generate a smooth curve, instead of the linear function that is used by default."
   ]
  },
  {
   "cell_type": "code",
   "execution_count": null,
   "metadata": {
    "is_executing": true
   },
   "outputs": [],
   "source": [
    "f = x ** 3\n",
    "\n",
    "plot(f, (x, -1, 1))"
   ]
  },
  {
   "cell_type": "markdown",
   "metadata": {},
   "source": [
    "## Fitting a Tangens Function\n",
    "\n",
    "The cubic function is not a good fit for the cursor movement. Instead, we can use a tangens function to generate a smooth curve. For this we define some points that the curve should pass through and then fit a tangens function to these points."
   ]
  },
  {
   "cell_type": "code",
   "execution_count": null,
   "metadata": {
    "is_executing": true
   },
   "outputs": [],
   "source": [
    "a, b = symbols(\"a b\")\n",
    "\n",
    "p1 = [1, 1]\n",
    "p2 = [0.5, 0.3]\n",
    "\n",
    "f_tan = a * tan(b * x)\n",
    "\n",
    "f_tan1 = f_tan.subs(x, p1[0]) - p1[1]\n",
    "f_tan2 = f_tan.subs(x, p2[0]) - p2[1]\n",
    "\n",
    "sol = solve([f_tan1, f_tan2], [a, b])\n",
    "display(sol)\n",
    "\n",
    "for s in sol:\n",
    "    f_tan = f_tan.subs(a, s[0]).subs(b, s[1])\n",
    "    display(f_tan)\n",
    "    plot(f_tan, (x, -1, 1))"
   ]
  },
  {
   "cell_type": "markdown",
   "metadata": {},
   "source": [
    "## Polynomial Regression\n",
    "\n",
    "Another approach is to use polynomial regression to fit a curve to the points. This is a more general approach than the tangens function, but it is also more complex. For this we use the `numpy` library."
   ]
  },
  {
   "cell_type": "code",
   "execution_count": null,
   "metadata": {
    "is_executing": true
   },
   "outputs": [],
   "source": [
    "import numpy as np\n",
    "import matplotlib.pyplot as plt\n",
    "\n",
    "# Define initial points and separate into px and py\n",
    "pp = np.array([[0, 0], [0.25, 0.1], [0.5, 0.25], [0.75, 0.7], [1, 1]])\n",
    "px, py = pp[:, 0], pp[:, 1]\n",
    "\n",
    "# Add negative counterparts and sort\n",
    "px = np.concatenate((px, -px[1:]))\n",
    "py = np.concatenate((py, -py[1:]))\n",
    "sort_idx = np.argsort(px)\n",
    "px, py = px[sort_idx], py[sort_idx]\n",
    "\n",
    "# Remove duplicates\n",
    "_, unique_idx = np.unique(px, return_index=True)\n",
    "px, py = px[unique_idx], py[unique_idx]\n",
    "\n",
    "# run the regression\n",
    "degree = 5\n",
    "p = np.polyfit(px, py, degree)\n",
    "\n",
    "# plot the results\n",
    "xx = np.linspace(-1, 1, 100)\n",
    "yy = np.polyval(p, xx)\n",
    "\n",
    "plt.plot(xx, yy, label='polyfit(deg={})'.format(degree))\n",
    "plt.plot(xx, xx, '--', label='y=x')\n",
    "plt.plot(px, py, 'xr', label='points')\n",
    "\n",
    "# Axis adjustments\n",
    "plt.axis([-1, 1, -1, 1])\n",
    "plt.legend(loc='best')\n",
    "ax = plt.gca()\n",
    "ax.set_aspect('equal', adjustable='box')\n",
    "\n",
    "# Move axis lines to zero point\n",
    "ax.spines['left'].set_position('zero')\n",
    "ax.spines['bottom'].set_position('zero')\n",
    "ax.spines['right'].set_color('none')\n",
    "ax.spines['top'].set_color('none')"
   ]
  },
  {
   "cell_type": "markdown",
   "metadata": {},
   "source": [
    "## Sigmoid Function\n",
    "\n",
    "### Plain Sigmoid\n",
    "Observing a plain sigmoid function we can see, that over a range of -1 to 1 we have a slow increase at the beginning, a fast increase in the middle and a slow increase at the end. This is exactly what we want for the cursor movement. We can use the sigmoid function to generate a smooth curve."
   ]
  },
  {
   "cell_type": "code",
   "execution_count": null,
   "metadata": {
    "is_executing": true
   },
   "outputs": [],
   "source": [
    "import sympy as sp\n",
    "import numpy as np\n",
    "import matplotlib.pyplot as plt\n",
    "\n",
    "x = sp.Symbol('x')\n",
    "\n",
    "FACTOR = 3\n",
    "\n",
    "def sigmoid(x):\n",
    "    return 1 / (1 + sp.exp(-x))\n",
    "\n",
    "def plot_sigmoid(expr):\n",
    "    # Convert the SymPy expression to a Python function\n",
    "    f_sig = sp.lambdify(x, expr, 'numpy')\n",
    "    \n",
    "    xx = np.linspace(-1, 1, 100)\n",
    "    yy = f_sig(xx)\n",
    "    plt.plot(xx, yy, label=f'sigmoid')\n",
    "    plt.plot(xx, xx, '--', label='y=x')\n",
    "    plt.axis([-1, 1, -1, 1])\n",
    "    plt.legend(loc='best')\n",
    "    ax = plt.gca()\n",
    "    ax.set_aspect('equal', adjustable='box')\n",
    "    ax.spines['left'].set_position('zero')\n",
    "    ax.spines['bottom'].set_position('zero')\n",
    "    ax.spines['right'].set_color('none')\n",
    "    ax.spines['top'].set_color('none')\n",
    "    \n",
    "    display(expr)\n",
    "\n",
    "plot_sigmoid(sigmoid(FACTOR*x))\n",
    "plt.show()\n"
   ]
  },
  {
   "cell_type": "markdown",
   "metadata": {},
   "source": [
    "### Adjusting the sigmoid function\n",
    "\n",
    "We need our sigmoid function to only happen in the top right corner and then mirror it to the negative. For this we need to adjust the function. We can do this by adding a constant to the x value and then multiplying the result by a constant. This will shift the sigmoid function to the right and then scale it to the desired size."
   ]
  },
  {
   "cell_type": "code",
   "execution_count": null,
   "metadata": {},
   "outputs": [],
   "source": [
    "positive_sigmoid = sigmoid(FACTOR*(2*x-1))\n",
    "\n",
    "plot_sigmoid(positive_sigmoid)"
   ]
  },
  {
   "cell_type": "markdown",
   "metadata": {},
   "source": [
    "### Hitting the Edges\n",
    "\n",
    "The sigmoid function will never reach 0 or 1, as it only converges towards these limits. Therefore, we need to adjust it to hit the edges."
   ]
  },
  {
   "cell_type": "code",
   "execution_count": null,
   "metadata": {},
   "outputs": [],
   "source": [
    "edge = (sigmoid(FACTOR*(2*x-1)) - sigmoid(-FACTOR))/(sigmoid(FACTOR) - sigmoid(-FACTOR))\n",
    "\n",
    "plot_sigmoid(edge)"
   ]
  },
  {
   "cell_type": "markdown",
   "metadata": {},
   "source": [
    "### Rotate into negative domain\n",
    "\n",
    "We need to mirror the function into the negative domain, since we want the cursor to move in the negative direction as well. For this we need to cut the function in half and mirror it to the negative. We can use a 180 degree rotation transformation:\n",
    "\n",
    "$$\n",
    "(x, y) \\rightarrow (-x, -y)\n",
    "$$"
   ]
  },
  {
   "cell_type": "code",
   "execution_count": null,
   "metadata": {},
   "outputs": [],
   "source": [
    "# rotate 180 degrees\n",
    "rotated_edge = - edge.subs(x, -x)\n",
    "\n",
    "plot_sigmoid(rotated_edge)"
   ]
  },
  {
   "cell_type": "code",
   "execution_count": null,
   "metadata": {},
   "outputs": [],
   "source": [
    "# combine the two edges\n",
    "combined_edge = sp.Piecewise((edge, x >= 0), (rotated_edge, x < 0))\n",
    "\n",
    "plot_sigmoid(combined_edge)"
   ]
  },
  {
   "cell_type": "markdown",
   "metadata": {},
   "source": [
    "### Now lets abstract this and try out multiple FACTORS\n",
    "\n",
    "After we have found a good sigmoid function, we can abstract it and try out multiple factors. This will allow us to find the best factor for the cursor movement. Our sigmoid function will now look like this:"
   ]
  },
  {
   "cell_type": "code",
   "execution_count": null,
   "metadata": {},
   "outputs": [],
   "source": [
    "def combined_edge_sigmoid(factor):\n",
    "    positive_sigmoid = sigmoid(factor*(2*x-1))\n",
    "    edge = (sigmoid(factor*(2*x-1)) - sigmoid(-factor))/(sigmoid(factor) - sigmoid(-factor))\n",
    "    rotated_edge = - edge.subs(x, -x)\n",
    "    combined_edge = sp.Piecewise((edge, x >= 0), (rotated_edge, x < 0))\n",
    "    return combined_edge\n",
    "\n",
    "factors = [1, 2, 3, 4, 5, 6]\n",
    "\n",
    "# plot the results into a 3x3 grid\n",
    "fig, axs = plt.subplots(2, 3, figsize=(15, 15))\n",
    "for i, factor in enumerate(factors):\n",
    "    plt.subplot(2, 3, i+1)\n",
    "    plot_sigmoid(combined_edge_sigmoid(factor))\n",
    "    plt.title(f'factor={factor}')\n",
    "\n",
    "plt.show()"
   ]
  }
 ],
 "metadata": {
  "kernelspec": {
   "display_name": "Python 3",
   "language": "python",
   "name": "python3"
  },
  "language_info": {
   "codemirror_mode": {
    "name": "ipython",
    "version": 3
   },
   "file_extension": ".py",
   "mimetype": "text/x-python",
   "name": "python",
   "nbconvert_exporter": "python",
   "pygments_lexer": "ipython3",
   "version": "3.10.12"
  }
 },
 "nbformat": 4,
 "nbformat_minor": 2
}
