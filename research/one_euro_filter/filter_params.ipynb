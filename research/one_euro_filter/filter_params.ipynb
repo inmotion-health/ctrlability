{
 "cells": [
  {
   "cell_type": "code",
   "execution_count": null,
   "metadata": {},
   "outputs": [],
   "source": [
    "from one_euro_filter import OneEuroFilter\n",
    "import numpy as np\n",
    "import matplotlib.pyplot as plt\n",
    "\n",
    "plt.style.use('grayscale')"
   ]
  },
  {
   "cell_type": "code",
   "execution_count": null,
   "metadata": {},
   "outputs": [],
   "source": [
    "tt = np.linspace(0, 1, 100)\n",
    "xx = np.sin(2*np.pi*tt)\n",
    "noisy_xx = xx + 0.25*np.random.randn(len(tt))"
   ]
  },
  {
   "cell_type": "code",
   "execution_count": null,
   "metadata": {},
   "outputs": [],
   "source": [
    "fig, ax = plt.subplots(4, 3, figsize=(10, 10) ,sharex=True, sharey=True)\n",
    "fig.suptitle('One Euro Filter with different beta values', fontsize=16)\n",
    "fig.patch.set_facecolor('white')\n",
    "\n",
    "min_cutoffs = [0.04, 1.0, 4.0, 0.04, 1.0, 4.0, 0.04, 1.0, 4.0, 0.04, 1.0, 4.0]\n",
    "betas = [0.01, 0.01, 0.01, 0.1, 0.1, 0.1, 0.5, 0.5, 0.5, 1.0, 1.0, 1.0]\n",
    "\n",
    "for ax,min_cutoff, beta in zip(ax.flatten(), min_cutoffs, betas):\n",
    "    # create the filter\n",
    "    oef = OneEuroFilter(tt[0], noisy_xx[0], beta=beta, min_cutoff=min_cutoff)\n",
    "    xx_filtered = np.zeros(len(tt))\n",
    "    xx_filtered[0] = noisy_xx[0]\n",
    "    for i in range(1, len(tt)):\n",
    "        xx_filtered[i] = oef(tt[i], noisy_xx[i])\n",
    "\n",
    "    # plot the filtered signal on top of the noisy one\n",
    "    ax.plot(tt, noisy_xx, '.', alpha=0.2, label=\"noisy\")\n",
    "    ax.plot(tt, xx_filtered, '-', label=\"filtered\")\n",
    "    ax.text(0.01, 0.1, \"beta=%.3f\" % beta, transform=ax.transAxes)\n",
    "    ax.text(0.01, 0.2, \"min_cutoff=%.3f\" % min_cutoff, transform=ax.transAxes)\n",
    "    ax.set_xlim(0, 1)\n",
    "\n",
    "plt.show()"
   ]
  }
 ],
 "metadata": {
  "kernelspec": {
   "display_name": "ctrlability",
   "language": "python",
   "name": "python3"
  },
  "language_info": {
   "codemirror_mode": {
    "name": "ipython",
    "version": 3
   },
   "file_extension": ".py",
   "mimetype": "text/x-python",
   "name": "python",
   "nbconvert_exporter": "python",
   "pygments_lexer": "ipython3",
   "version": "3.11.0"
  }
 },
 "nbformat": 4,
 "nbformat_minor": 2
}
