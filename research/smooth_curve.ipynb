{
 "cells": [
  {
   "cell_type": "code",
   "execution_count": null,
   "metadata": {},
   "outputs": [],
   "source": [
    "from sympy import *\n",
    "\n",
    "init_printing()\n",
    "\n",
    "x = symbols('x')"
   ]
  },
  {
   "cell_type": "code",
   "execution_count": null,
   "metadata": {},
   "outputs": [],
   "source": [
    "f = 3*x**5 + 2*x**3\n",
    "\n",
    "plot(f, (x, -1, 1))"
   ]
  },
  {
   "cell_type": "code",
   "execution_count": null,
   "metadata": {},
   "outputs": [],
   "source": [
    "a, b = symbols(\"a b\")\n",
    "\n",
    "p1 = [1, 1]\n",
    "p2 = [0.4, 0.3]\n",
    "\n",
    "f_tan = a * tan(b * x)\n",
    "\n",
    "f_tan1 = f_tan.subs(x, p1[0]) - p1[1]\n",
    "f_tan2 = f_tan.subs(x, p2[0]) - p2[1]\n",
    "\n",
    "sol = solve([f_tan1, f_tan2], [a, b])\n",
    "display(sol)\n",
    "\n",
    "for s in sol:\n",
    "    f_tan = f_tan.subs(a, s[0]).subs(b, s[1])\n",
    "    display(f_tan)\n",
    "    plot(f_tan, (x, -1, 1))"
   ]
  },
  {
   "attachments": {},
   "cell_type": "markdown",
   "metadata": {},
   "source": [
    "## Lets Run a Polynomial Regression Model"
   ]
  },
  {
   "cell_type": "code",
   "execution_count": null,
   "metadata": {},
   "outputs": [],
   "source": [
    "import numpy as np\n",
    "import matplotlib.pyplot as plt\n",
    "\n",
    "# Sample data points\n",
    "xx = np.array([-1, -0.75, -0.5, -0.25, 0, 0.25, 0.5, 0.75, 1])\n",
    "yy = np.array([-1, -0.6, -0.25, -0.1, 0, 0.1, 0.25, 0.6, 1])\n",
    "\n",
    "# Degree of the polynomial\n",
    "degree = 5\n",
    "\n",
    "# Fit the polynomial\n",
    "coefficients = np.polyfit(xx, yy, degree)\n",
    "polynomial = np.poly1d(coefficients)\n",
    "\n",
    "display(polynomial)\n",
    "\n",
    "# Generate y values for the polynomial\n",
    "y_poly = polynomial(xx)\n",
    "\n",
    "# Plot the original data points and the polynomial\n",
    "plt.scatter(xx, yy, color=\"red\", label=\"Data Points\")\n",
    "plt.plot(xx, y_poly, label=f\"Polynomial Degree {degree}\")\n",
    "plt.legend()\n",
    "plt.show()\n",
    "\n",
    "f_poly = sum(coef * x**i for i, coef in enumerate(reversed(coefficients)))\n",
    "\n",
    "display(f_poly)\n",
    "plot(f_poly, (x, -1, 1), label=f\"Symbolic Polynomial Degree {degree}\")"
   ]
  }
 ],
 "metadata": {
  "kernelspec": {
   "display_name": "Python 3",
   "language": "python",
   "name": "python3"
  },
  "language_info": {
   "codemirror_mode": {
    "name": "ipython",
    "version": 3
   },
   "file_extension": ".py",
   "mimetype": "text/x-python",
   "name": "python",
   "nbconvert_exporter": "python",
   "pygments_lexer": "ipython3",
   "version": "3.11.0"
  }
 },
 "nbformat": 4,
 "nbformat_minor": 2
}
