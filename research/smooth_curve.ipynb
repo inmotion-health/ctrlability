{
 "cells": [
  {
   "cell_type": "markdown",
   "metadata": {},
   "source": [
    "# Smooth Cursor Curve"
   ]
  },
  {
   "cell_type": "code",
   "execution_count": null,
   "metadata": {},
   "outputs": [],
   "source": [
    "from sympy import *\n",
    "\n",
    "init_printing()\n",
    "\n",
    "x = symbols('x')"
   ]
  },
  {
   "cell_type": "markdown",
   "metadata": {},
   "source": [
    "## Simple Cubic Function\n",
    "\n",
    "As an initial idea, we can use a simple cubic function to generate a smooth curve, instead of the linear function that is used by default."
   ]
  },
  {
   "cell_type": "code",
   "execution_count": null,
   "metadata": {},
   "outputs": [],
   "source": [
    "f = x**3\n",
    "\n",
    "plot(f, (x, -1, 1))"
   ]
  },
  {
   "cell_type": "markdown",
   "metadata": {},
   "source": [
    "## Fitting a Tangens Function\n",
    "\n",
    "The cubic function is not a good fit for the cursor movement. Instead, we can use a tangens function to generate a smooth curve. For this we define some points that the curve should pass through and then fit a tangens function to these points."
   ]
  },
  {
   "cell_type": "code",
   "execution_count": null,
   "metadata": {},
   "outputs": [],
   "source": [
    "a, b = symbols(\"a b\")\n",
    "\n",
    "p1 = [1, 1]\n",
    "p2 = [0.5, 0.3]\n",
    "\n",
    "f_tan = a * tan(b * x)\n",
    "\n",
    "f_tan1 = f_tan.subs(x, p1[0]) - p1[1]\n",
    "f_tan2 = f_tan.subs(x, p2[0]) - p2[1]\n",
    "\n",
    "sol = solve([f_tan1, f_tan2], [a, b])\n",
    "display(sol)\n",
    "\n",
    "for s in sol:\n",
    "    f_tan = f_tan.subs(a, s[0]).subs(b, s[1])\n",
    "    display(f_tan)\n",
    "    plot(f_tan, (x, -1, 1))"
   ]
  },
  {
   "cell_type": "markdown",
   "metadata": {},
   "source": [
    "## Polynomial Regression\n",
    "\n",
    "Another approach is to use polynomial regression to fit a curve to the points. This is a more general approach than the tangens function, but it is also more complex. For this we use the `numpy` library."
   ]
  },
  {
   "cell_type": "code",
   "execution_count": null,
   "metadata": {},
   "outputs": [],
   "source": [
    "import numpy as np\n",
    "import matplotlib.pyplot as plt\n",
    "\n",
    "# Define initial points and separate into px and py\n",
    "pp = np.array([[0, 0], [0.25, 0.1], [0.5, 0.25], [0.75, 0.7], [1, 1]])\n",
    "px, py = pp[:, 0], pp[:, 1]\n",
    "\n",
    "# Add negative counterparts and sort\n",
    "px = np.concatenate((px, -px[1:]))\n",
    "py = np.concatenate((py, -py[1:]))\n",
    "sort_idx = np.argsort(px)\n",
    "px, py = px[sort_idx], py[sort_idx]\n",
    "\n",
    "# Remove duplicates\n",
    "_, unique_idx = np.unique(px, return_index=True)\n",
    "px, py = px[unique_idx], py[unique_idx]\n",
    "\n",
    "# run the regression\n",
    "degree = 5\n",
    "p = np.polyfit(px, py, degree)\n",
    "\n",
    "# plot the results\n",
    "xx = np.linspace(-1, 1, 100)\n",
    "yy = np.polyval(p, xx)\n",
    "\n",
    "plt.plot(xx, yy, label='polyfit(deg={})'.format(degree))\n",
    "plt.plot(xx, xx, '--', label='y=x')\n",
    "plt.plot(px, py, 'xr', label='points')\n",
    "\n",
    "# Axis adjustments\n",
    "plt.axis([-1, 1, -1, 1])\n",
    "plt.legend(loc='best')\n",
    "ax = plt.gca()\n",
    "ax.set_aspect('equal', adjustable='box')\n",
    "\n",
    "# Move axis lines to zero point\n",
    "ax.spines['left'].set_position('zero')\n",
    "ax.spines['bottom'].set_position('zero')\n",
    "ax.spines['right'].set_color('none')\n",
    "ax.spines['top'].set_color('none')"
   ]
  }
 ],
 "metadata": {
  "kernelspec": {
   "display_name": "Python 3",
   "language": "python",
   "name": "python3"
  },
  "language_info": {
   "codemirror_mode": {
    "name": "ipython",
    "version": 3
   },
   "file_extension": ".py",
   "mimetype": "text/x-python",
   "name": "python",
   "nbconvert_exporter": "python",
   "pygments_lexer": "ipython3",
   "version": "3.11.5"
  }
 },
 "nbformat": 4,
 "nbformat_minor": 2
}
