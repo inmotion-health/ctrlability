{
 "cells": [
  {
   "cell_type": "code",
   "execution_count": null,
   "metadata": {},
   "outputs": [],
   "source": [
    "from sympy import *\n",
    "\n",
    "init_printing()\n",
    "\n",
    "x = symbols('x')"
   ]
  },
  {
   "cell_type": "code",
   "execution_count": null,
   "metadata": {},
   "outputs": [],
   "source": [
    "f = 3*x**5 + 2*x**3\n",
    "\n",
    "plot(f, (x, -1, 1))"
   ]
  },
  {
   "cell_type": "code",
   "execution_count": null,
   "metadata": {},
   "outputs": [],
   "source": [
    "a, b = symbols(\"a b\")\n",
    "\n",
    "p1 = [1, 1]\n",
    "p2 = [0.5, 0.3]\n",
    "p3 = [0, 0]\n",
    "\n",
    "f_tan = a * (b * x) ** 3\n",
    "\n",
    "f_tan1 = f_tan.subs(x, p1[0]) - p1[1]\n",
    "f_tan2 = f_tan.subs(x, p2[0]) - p2[1]\n",
    "f_tan3 = f_tan.subs(x, p3[0]) - p3[1]\n",
    "\n",
    "sol = solve([f_tan1, f_tan2, f_tan3], [a, b])\n",
    "display(sol)\n",
    "\n",
    "for s in sol:\n",
    "    f_tan = f_tan.subs(a, s[0]).subs(b, s[1])\n",
    "    display(f_tan)\n",
    "    plot(f_tan, (x, -1, 1))"
   ]
  }
 ],
 "metadata": {
  "kernelspec": {
   "display_name": "Python 3",
   "language": "python",
   "name": "python3"
  },
  "language_info": {
   "codemirror_mode": {
    "name": "ipython",
    "version": 3
   },
   "file_extension": ".py",
   "mimetype": "text/x-python",
   "name": "python",
   "nbconvert_exporter": "python",
   "pygments_lexer": "ipython3",
   "version": "3.11.5"
  }
 },
 "nbformat": 4,
 "nbformat_minor": 2
}
